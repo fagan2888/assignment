{
 "cells": [
  {
   "cell_type": "code",
   "execution_count": 1,
   "metadata": {},
   "outputs": [],
   "source": [
    "import pandas as pd\n",
    "import seaborn as sns\n",
    "import numpy as np\n"
   ]
  },
  {
   "cell_type": "code",
   "execution_count": 2,
   "metadata": {},
   "outputs": [
    {
     "data": {
      "text/html": [
       "<div>\n",
       "<style scoped>\n",
       "    .dataframe tbody tr th:only-of-type {\n",
       "        vertical-align: middle;\n",
       "    }\n",
       "\n",
       "    .dataframe tbody tr th {\n",
       "        vertical-align: top;\n",
       "    }\n",
       "\n",
       "    .dataframe thead th {\n",
       "        text-align: right;\n",
       "    }\n",
       "</style>\n",
       "<table border=\"1\" class=\"dataframe\">\n",
       "  <thead>\n",
       "    <tr style=\"text-align: right;\">\n",
       "      <th></th>\n",
       "      <th>score</th>\n",
       "      <th>summary</th>\n",
       "      <th>text</th>\n",
       "      <th>text_cleaned</th>\n",
       "      <th>summary_cleaned</th>\n",
       "      <th>word_counts_summary</th>\n",
       "      <th>word_counts_text</th>\n",
       "      <th>word_counts_summary_cleaned</th>\n",
       "      <th>word_counts_text_cleaned</th>\n",
       "    </tr>\n",
       "  </thead>\n",
       "  <tbody>\n",
       "    <tr>\n",
       "      <th>0</th>\n",
       "      <td>5.0</td>\n",
       "      <td>good quality dog food</td>\n",
       "      <td>i have bought several of the vitality canned d...</td>\n",
       "      <td>bought sever vital can dog food product found ...</td>\n",
       "      <td>good qualiti dog food</td>\n",
       "      <td>4</td>\n",
       "      <td>48</td>\n",
       "      <td>4</td>\n",
       "      <td>23</td>\n",
       "    </tr>\n",
       "    <tr>\n",
       "      <th>1</th>\n",
       "      <td>1.0</td>\n",
       "      <td>not as advertised</td>\n",
       "      <td>product arrived labeled as jumbo salted peanut...</td>\n",
       "      <td>product arriv label jumbo salt peanut peanut a...</td>\n",
       "      <td>advertis</td>\n",
       "      <td>3</td>\n",
       "      <td>31</td>\n",
       "      <td>1</td>\n",
       "      <td>18</td>\n",
       "    </tr>\n",
       "    <tr>\n",
       "      <th>2</th>\n",
       "      <td>4.0</td>\n",
       "      <td>\"delight\" says it all</td>\n",
       "      <td>this is a confection that has been around a fe...</td>\n",
       "      <td>confect around centuri light pillowi citrus ge...</td>\n",
       "      <td>delight say</td>\n",
       "      <td>4</td>\n",
       "      <td>94</td>\n",
       "      <td>2</td>\n",
       "      <td>39</td>\n",
       "    </tr>\n",
       "    <tr>\n",
       "      <th>3</th>\n",
       "      <td>2.0</td>\n",
       "      <td>cough medicine</td>\n",
       "      <td>if you are looking for the secret ingredient i...</td>\n",
       "      <td>look secret ingredi robitussin believ found go...</td>\n",
       "      <td>cough medicin</td>\n",
       "      <td>2</td>\n",
       "      <td>41</td>\n",
       "      <td>2</td>\n",
       "      <td>18</td>\n",
       "    </tr>\n",
       "    <tr>\n",
       "      <th>4</th>\n",
       "      <td>5.0</td>\n",
       "      <td>great taffy</td>\n",
       "      <td>great taffy at a great price.  there was a wid...</td>\n",
       "      <td>great taffi great price wide assort yummi taff...</td>\n",
       "      <td>great taffi</td>\n",
       "      <td>2</td>\n",
       "      <td>27</td>\n",
       "      <td>2</td>\n",
       "      <td>13</td>\n",
       "    </tr>\n",
       "  </tbody>\n",
       "</table>\n",
       "</div>"
      ],
      "text/plain": [
       "  score                summary  \\\n",
       "0   5.0  good quality dog food   \n",
       "1   1.0      not as advertised   \n",
       "2   4.0  \"delight\" says it all   \n",
       "3   2.0         cough medicine   \n",
       "4   5.0            great taffy   \n",
       "\n",
       "                                                text  \\\n",
       "0  i have bought several of the vitality canned d...   \n",
       "1  product arrived labeled as jumbo salted peanut...   \n",
       "2  this is a confection that has been around a fe...   \n",
       "3  if you are looking for the secret ingredient i...   \n",
       "4  great taffy at a great price.  there was a wid...   \n",
       "\n",
       "                                        text_cleaned        summary_cleaned  \\\n",
       "0  bought sever vital can dog food product found ...  good qualiti dog food   \n",
       "1  product arriv label jumbo salt peanut peanut a...               advertis   \n",
       "2  confect around centuri light pillowi citrus ge...            delight say   \n",
       "3  look secret ingredi robitussin believ found go...          cough medicin   \n",
       "4  great taffi great price wide assort yummi taff...            great taffi   \n",
       "\n",
       "   word_counts_summary  word_counts_text  word_counts_summary_cleaned  \\\n",
       "0                    4                48                            4   \n",
       "1                    3                31                            1   \n",
       "2                    4                94                            2   \n",
       "3                    2                41                            2   \n",
       "4                    2                27                            2   \n",
       "\n",
       "   word_counts_text_cleaned  \n",
       "0                        23  \n",
       "1                        18  \n",
       "2                        39  \n",
       "3                        18  \n",
       "4                        13  "
      ]
     },
     "execution_count": 2,
     "metadata": {},
     "output_type": "execute_result"
    }
   ],
   "source": [
    "df = pd.read_pickle('./finefood_dataset_cleaned.pkl')\n",
    "df.head()"
   ]
  },
  {
   "cell_type": "code",
   "execution_count": 3,
   "metadata": {},
   "outputs": [
    {
     "data": {
      "text/plain": [
       "(395006, 9)"
      ]
     },
     "execution_count": 3,
     "metadata": {},
     "output_type": "execute_result"
    }
   ],
   "source": [
    "df.shape"
   ]
  },
  {
   "cell_type": "markdown",
   "metadata": {},
   "source": [
    "Sample dataset"
   ]
  },
  {
   "cell_type": "code",
   "execution_count": 4,
   "metadata": {},
   "outputs": [
    {
     "data": {
      "text/plain": [
       "(100000, 9)"
      ]
     },
     "execution_count": 4,
     "metadata": {},
     "output_type": "execute_result"
    }
   ],
   "source": [
    "df = df.sample(n=100000, random_state = 123)\n",
    "df.shape"
   ]
  },
  {
   "cell_type": "code",
   "execution_count": 5,
   "metadata": {},
   "outputs": [
    {
     "data": {
      "text/plain": [
       "<matplotlib.axes._subplots.AxesSubplot at 0x7fbbba0f2dd8>"
      ]
     },
     "execution_count": 5,
     "metadata": {},
     "output_type": "execute_result"
    },
    {
     "data": {
      "image/png": "[encoded data removed]",
      "text/plain": [
       "<Figure size 432x288 with 1 Axes>"
      ]
     },
     "metadata": {
      "needs_background": "light"
     },
     "output_type": "display_data"
    }
   ],
   "source": [
    "sns.countplot(df.score)"
   ]
  },
  {
   "cell_type": "markdown",
   "metadata": {},
   "source": [
    "#### Undersampling"
   ]
  },
  {
   "cell_type": "code",
   "execution_count": 6,
   "metadata": {},
   "outputs": [
    {
     "data": {
      "text/plain": [
       "(56000, 9)"
      ]
     },
     "execution_count": 6,
     "metadata": {},
     "output_type": "execute_result"
    }
   ],
   "source": [
    "indexes = df.index[df['score'] == '5.0'].tolist()\n",
    "drop_indices = np.random.choice(indexes, 44000, replace=False)\n",
    "df = df.drop(drop_indices)\n",
    "df.shape"
   ]
  },
  {
   "cell_type": "code",
   "execution_count": 7,
   "metadata": {},
   "outputs": [
    {
     "data": {
      "text/plain": [
       "<matplotlib.axes._subplots.AxesSubplot at 0x7fbbc3579eb8>"
      ]
     },
     "execution_count": 7,
     "metadata": {},
     "output_type": "execute_result"
    },
    {
     "data": {
      "image/png": "[encoded data removed]",
      "text/plain": [
       "<Figure size 432x288 with 1 Axes>"
      ]
     },
     "metadata": {
      "needs_background": "light"
     },
     "output_type": "display_data"
    }
   ],
   "source": [
    "sns.countplot(df.score)"
   ]
  },
  {
   "cell_type": "code",
   "execution_count": 8,
   "metadata": {},
   "outputs": [],
   "source": [
    "df[\"score\"] = df['score'].astype(float)"
   ]
  },
  {
   "cell_type": "code",
   "execution_count": 9,
   "metadata": {},
   "outputs": [
    {
     "name": "stdout",
     "output_type": "stream",
     "text": [
      "<class 'pandas.core.frame.DataFrame'>\n",
      "Int64Index: 56000 entries, 462490 to 241652\n",
      "Data columns (total 9 columns):\n",
      "score                          56000 non-null float64\n",
      "summary                        56000 non-null object\n",
      "text                           56000 non-null object\n",
      "text_cleaned                   56000 non-null object\n",
      "summary_cleaned                56000 non-null object\n",
      "word_counts_summary            56000 non-null int64\n",
      "word_counts_text               56000 non-null int64\n",
      "word_counts_summary_cleaned    56000 non-null int64\n",
      "word_counts_text_cleaned       56000 non-null int64\n",
      "dtypes: float64(1), int64(4), object(4)\n",
      "memory usage: 6.8+ MB\n"
     ]
    }
   ],
   "source": [
    "df.info()"
   ]
  },
  {
   "cell_type": "markdown",
   "metadata": {},
   "source": [
    "# Word Tokenizing \n",
    "credit goes to: https://towardsdatascience.com/machine-learning-word-embedding-sentiment-classification-using-keras-b83c28087456\n"
   ]
  },
  {
   "cell_type": "code",
   "execution_count": 10,
   "metadata": {},
   "outputs": [],
   "source": [
    "from tensorflow.python.keras.preprocessing.text import Tokenizer\n",
    "from tensorflow.python.keras.preprocessing.sequence import pad_sequences"
   ]
  },
  {
   "cell_type": "markdown",
   "metadata": {},
   "source": [
    "Define vocabulary size"
   ]
  },
  {
   "cell_type": "code",
   "execution_count": 11,
   "metadata": {},
   "outputs": [],
   "source": [
    "#vocab_size = len(tokenizer_obj.word_index) + 1\n",
    "vocab_size = 20000"
   ]
  },
  {
   "cell_type": "code",
   "execution_count": 12,
   "metadata": {},
   "outputs": [],
   "source": [
    "tokenizer_obj = Tokenizer(num_words=vocab_size)\n",
    "tokenizer_obj.fit_on_texts(df['text_cleaned'])"
   ]
  },
  {
   "cell_type": "markdown",
   "metadata": {},
   "source": [
    "Pad Sequences"
   ]
  },
  {
   "cell_type": "code",
   "execution_count": 13,
   "metadata": {},
   "outputs": [],
   "source": [
    "max_length = max([len(s.split()) for s in df['text_cleaned']])\n",
    "max_length = 600"
   ]
  },
  {
   "cell_type": "markdown",
   "metadata": {},
   "source": [
    "### Split Dataset"
   ]
  },
  {
   "cell_type": "code",
   "execution_count": 14,
   "metadata": {},
   "outputs": [
    {
     "name": "stdout",
     "output_type": "stream",
     "text": [
      "Shapes X_train, X_test, y_train, Y_test:  (44800,) (11200,) (44800,) (11200,)\n"
     ]
    }
   ],
   "source": [
    "from sklearn.model_selection import train_test_split\n",
    "X_train, X_test, y_train, y_test = train_test_split(df['text_cleaned'], df['score'], test_size = 0.2, random_state = 123)\n",
    "print(\"Shapes X_train, X_test, y_train, Y_test: \", X_train.shape, X_test.shape, y_train.shape, y_test.shape)"
   ]
  },
  {
   "cell_type": "code",
   "execution_count": 15,
   "metadata": {},
   "outputs": [
    {
     "name": "stderr",
     "output_type": "stream",
     "text": [
      "Using TensorFlow backend.\n"
     ]
    }
   ],
   "source": [
    "from sklearn.preprocessing import LabelEncoder\n",
    "from keras.utils import np_utils\n",
    "\n",
    "def labelEncoded(Y):\n",
    "    encoder = LabelEncoder()\n",
    "    encoder.fit(Y)\n",
    "    encoded_Y = encoder.transform(Y)\n",
    "    return encoded_Y\n",
    "\n",
    "y_test=labelEncoded(y_test)\n",
    "y_test = np_utils.to_categorical(y_test)\n",
    "y_train=labelEncoded(y_train)\n",
    "y_train = np_utils.to_categorical(y_train)"
   ]
  },
  {
   "cell_type": "markdown",
   "metadata": {},
   "source": [
    "Create tokens"
   ]
  },
  {
   "cell_type": "code",
   "execution_count": 16,
   "metadata": {},
   "outputs": [],
   "source": [
    "X_train_tokens = tokenizer_obj.texts_to_sequences(X_train)\n",
    "X_test_tokens = tokenizer_obj.texts_to_sequences(X_test)"
   ]
  },
  {
   "cell_type": "markdown",
   "metadata": {},
   "source": [
    "Pad sequences to serve as input for model"
   ]
  },
  {
   "cell_type": "code",
   "execution_count": 17,
   "metadata": {},
   "outputs": [],
   "source": [
    "X_train_pad = pad_sequences(X_train_tokens, maxlen=max_length, padding='post')\n",
    "X_test_pad = pad_sequences(X_test_tokens, maxlen=max_length, padding='post')"
   ]
  },
  {
   "cell_type": "markdown",
   "metadata": {},
   "source": [
    "## Build model"
   ]
  },
  {
   "cell_type": "code",
   "execution_count": 18,
   "metadata": {},
   "outputs": [],
   "source": [
    "from keras.models import Sequential\n",
    "from keras.layers import Dense, Embedding, LSTM, GRU\n",
    "from keras.layers.embeddings import Embedding\n",
    "from keras import regularizers"
   ]
  },
  {
   "cell_type": "markdown",
   "metadata": {},
   "source": [
    "Define output dimension of embedding (can be played with)"
   ]
  },
  {
   "cell_type": "code",
   "execution_count": 19,
   "metadata": {},
   "outputs": [],
   "source": [
    "embedding_dimension =128"
   ]
  },
  {
   "cell_type": "code",
   "execution_count": 22,
   "metadata": {},
   "outputs": [
    {
     "name": "stdout",
     "output_type": "stream",
     "text": [
      "Building the model\n",
      "Model: \"sequential_2\"\n",
      "_________________________________________________________________\n",
      "Layer (type)                 Output Shape              Param #   \n",
      "=================================================================\n",
      "embedding_2 (Embedding)      (None, 600, 128)          2560000   \n",
      "_________________________________________________________________\n",
      "gru_2 (GRU)                  (None, 32)                15456     \n",
      "_________________________________________________________________\n",
      "dense_3 (Dense)              (None, 32)                1056      \n",
      "_________________________________________________________________\n",
      "dense_4 (Dense)              (None, 5)                 165       \n",
      "=================================================================\n",
      "Total params: 2,576,677\n",
      "Trainable params: 2,576,677\n",
      "Non-trainable params: 0\n",
      "_________________________________________________________________\n",
      "None\n"
     ]
    }
   ],
   "source": [
    "from keras import optimizers\n",
    "\n",
    "print(\"Building the model\")\n",
    "\n",
    "model = Sequential()\n",
    "model.add(Embedding(vocab_size, embedding_dimension, input_length=max_length))\n",
    "model.add(GRU(units=32, dropout=0.2, recurrent_dropout=0.2)) # Gated recurrent unit - LSTM for smaller dataset, lower parameters, good for sequences - optional\n",
    "model.add(Dense(32, activation='relu'))\n",
    "model.add(Dense(5, activation='sigmoid'))\n",
    "#model.add(Dense(1, activation='sigmoid'))\n",
    "\n",
    "adam = optimizers.Adam(lr=0.00001, beta_1=0.9, beta_2=0.999, amsgrad=False)\n",
    "model.compile(loss='binary_crossentropy',optimizer=adam, metrics=['accuracy'])\n",
    "#model.compile(loss='mean_squared_error',optimizer='adam', metrics=['accuracy'])\n",
    "print(model.summary())\n"
   ]
  },
  {
   "cell_type": "code",
   "execution_count": 23,
   "metadata": {},
   "outputs": [
    {
     "name": "stdout",
     "output_type": "stream",
     "text": [
      "Training:\n"
     ]
    },
    {
     "name": "stderr",
     "output_type": "stream",
     "text": [
      "/home/ubuntu/anaconda3/lib/python3.7/site-packages/tensorflow_core/python/framework/indexed_slices.py:433: UserWarning: Converting sparse IndexedSlices to a dense Tensor of unknown shape. This may consume a large amount of memory.\n",
      "  \"Converting sparse IndexedSlices to a dense Tensor of unknown shape. \"\n"
     ]
    },
    {
     "name": "stdout",
     "output_type": "stream",
     "text": [
      "Train on 44800 samples, validate on 11200 samples\n",
      "Epoch 1/3\n",
      "44800/44800 [==============================] - 90s 2ms/step - loss: 0.6881 - accuracy: 0.5116 - val_loss: 0.6866 - val_accuracy: 0.5911\n",
      "Epoch 2/3\n",
      "44800/44800 [==============================] - 90s 2ms/step - loss: 0.6824 - accuracy: 0.6413 - val_loss: 0.6825 - val_accuracy: 0.7369\n",
      "Epoch 3/3\n",
      "44800/44800 [==============================] - 89s 2ms/step - loss: 0.6760 - accuracy: 0.7435 - val_loss: 0.6775 - val_accuracy: 0.7370\n"
     ]
    }
   ],
   "source": [
    "print(\"Training:\")\n",
    "\n",
    "history = model.fit(X_train_pad, y_train, batch_size=512, epochs=3, validation_data=(X_test_pad, y_test), verbose=1)\n"
   ]
  },
  {
   "cell_type": "markdown",
   "metadata": {},
   "source": [
    "## Save model"
   ]
  },
  {
   "cell_type": "code",
   "execution_count": 24,
   "metadata": {},
   "outputs": [],
   "source": [
    "model.save('Food_Reviews.h5')\n",
    "\n",
    "#model = tf.keras.models.load_model('Food_Reviews.h5')"
   ]
  },
  {
   "cell_type": "markdown",
   "metadata": {},
   "source": [
    "### Save Keras Tokenizer"
   ]
  },
  {
   "cell_type": "code",
   "execution_count": 25,
   "metadata": {},
   "outputs": [],
   "source": [
    "import pickle\n",
    " \n",
    "with open('tokenizer.pickle', 'wb') as handle:\n",
    "    pickle.dump(tokenizer_obj, handle, protocol=pickle.HIGHEST_PROTOCOL)\n",
    "\n",
    "#with open('tokenizer.pickle', 'rb') as handle:\n",
    "#    tockenizer_obj = pickle.load(handle)"
   ]
  },
  {
   "cell_type": "code",
   "execution_count": 27,
   "metadata": {},
   "outputs": [
    {
     "name": "stdout",
     "output_type": "stream",
     "text": [
      "Index 30297 - Predicted: [1]  Actual: 4.0\n",
      "Index 17195 - Predicted: [3]  Actual: 1.0\n",
      "Index 41217 - Predicted: [1]  Actual: 5.0\n",
      "Index 16415 - Predicted: [3]  Actual: 5.0\n",
      "Index 38298 - Predicted: [4]  Actual: 4.0\n",
      "Index 42500 - Predicted: [1]  Actual: 4.0\n",
      "Index 32706 - Predicted: [1]  Actual: 5.0\n",
      "Index 48941 - Predicted: [4]  Actual: 5.0\n",
      "Index 35026 - Predicted: [0]  Actual: 3.0\n",
      "Index 32422 - Predicted: [1]  Actual: 1.0\n",
      "Index 39196 - Predicted: [3]  Actual: 5.0\n",
      "Index 51082 - Predicted: [0]  Actual: 4.0\n",
      "Index 5208 - Predicted: [0]  Actual: 1.0\n",
      "Index 52479 - Predicted: [3]  Actual: 4.0\n",
      "Index 14726 - Predicted: [3]  Actual: 5.0\n",
      "Index 42893 - Predicted: [4]  Actual: 1.0\n",
      "Index 53431 - Predicted: [3]  Actual: 5.0\n",
      "Index 8005 - Predicted: [1]  Actual: 4.0\n",
      "Index 49231 - Predicted: [0]  Actual: 3.0\n",
      "Index 34135 - Predicted: [4]  Actual: 4.0\n",
      "Index 12875 - Predicted: [4]  Actual: 5.0\n",
      "Index 51926 - Predicted: [4]  Actual: 5.0\n",
      "Index 202 - Predicted: [3]  Actual: 5.0\n",
      "Index 36386 - Predicted: [3]  Actual: 4.0\n",
      "Index 7172 - Predicted: [1]  Actual: 4.0\n",
      "Index 37887 - Predicted: [0]  Actual: 1.0\n",
      "Index 54506 - Predicted: [3]  Actual: 4.0\n",
      "Index 36802 - Predicted: [1]  Actual: 1.0\n",
      "Index 25533 - Predicted: [2]  Actual: 1.0\n",
      "Index 27934 - Predicted: [1]  Actual: 1.0\n",
      "Index 51001 - Predicted: [1]  Actual: 1.0\n",
      "Index 35075 - Predicted: [3]  Actual: 3.0\n",
      "Index 1656 - Predicted: [1]  Actual: 4.0\n",
      "Index 26968 - Predicted: [1]  Actual: 1.0\n",
      "Index 49685 - Predicted: [1]  Actual: 4.0\n",
      "Index 17919 - Predicted: [3]  Actual: 4.0\n",
      "Index 12312 - Predicted: [1]  Actual: 5.0\n",
      "Index 38883 - Predicted: [0]  Actual: 3.0\n",
      "Index 45318 - Predicted: [0]  Actual: 1.0\n",
      "Index 41559 - Predicted: [3]  Actual: 2.0\n",
      "Index 31497 - Predicted: [0]  Actual: 5.0\n",
      "Index 35371 - Predicted: [1]  Actual: 1.0\n",
      "Index 30105 - Predicted: [1]  Actual: 5.0\n",
      "Index 40765 - Predicted: [4]  Actual: 4.0\n",
      "Index 32187 - Predicted: [4]  Actual: 3.0\n",
      "Index 24919 - Predicted: [3]  Actual: 1.0\n",
      "Index 36093 - Predicted: [3]  Actual: 5.0\n",
      "Index 28881 - Predicted: [3]  Actual: 3.0\n",
      "Index 18046 - Predicted: [4]  Actual: 5.0\n",
      "Index 34034 - Predicted: [1]  Actual: 1.0\n",
      "Index 54474 - Predicted: [1]  Actual: 1.0\n",
      "Index 21954 - Predicted: [1]  Actual: 1.0\n",
      "Index 25398 - Predicted: [0]  Actual: 5.0\n",
      "Index 47589 - Predicted: [4]  Actual: 5.0\n",
      "Index 3236 - Predicted: [4]  Actual: 5.0\n",
      "Index 17516 - Predicted: [3]  Actual: 5.0\n",
      "Index 24772 - Predicted: [4]  Actual: 3.0\n",
      "Index 51105 - Predicted: [4]  Actual: 5.0\n",
      "Index 39589 - Predicted: [1]  Actual: 5.0\n",
      "Index 38826 - Predicted: [0]  Actual: 1.0\n",
      "Index 37296 - Predicted: [3]  Actual: 2.0\n",
      "Index 34293 - Predicted: [4]  Actual: 5.0\n",
      "Index 11663 - Predicted: [1]  Actual: 4.0\n",
      "Index 8513 - Predicted: [2]  Actual: 2.0\n",
      "Index 43873 - Predicted: [4]  Actual: 1.0\n",
      "Index 12931 - Predicted: [3]  Actual: 1.0\n",
      "Index 19211 - Predicted: [3]  Actual: 5.0\n",
      "Index 39427 - Predicted: [4]  Actual: 1.0\n",
      "Index 38416 - Predicted: [4]  Actual: 5.0\n",
      "Index 55826 - Predicted: [3]  Actual: 4.0\n",
      "Index 25460 - Predicted: [3]  Actual: 1.0\n",
      "Index 10369 - Predicted: [3]  Actual: 5.0\n",
      "Index 12250 - Predicted: [3]  Actual: 3.0\n",
      "Index 19586 - Predicted: [3]  Actual: 5.0\n",
      "Index 50844 - Predicted: [3]  Actual: 2.0\n",
      "Index 34140 - Predicted: [3]  Actual: 4.0\n",
      "Index 18070 - Predicted: [3]  Actual: 5.0\n",
      "Index 54875 - Predicted: [3]  Actual: 5.0\n",
      "Index 10217 - Predicted: [3]  Actual: 5.0\n",
      "Index 14431 - Predicted: [3]  Actual: 4.0\n",
      "Index 15097 - Predicted: [1]  Actual: 3.0\n",
      "Index 21485 - Predicted: [3]  Actual: 4.0\n",
      "Index 54339 - Predicted: [3]  Actual: 5.0\n",
      "Index 7557 - Predicted: [1]  Actual: 2.0\n",
      "Index 31840 - Predicted: [3]  Actual: 4.0\n",
      "Index 18081 - Predicted: [1]  Actual: 4.0\n",
      "Index 12457 - Predicted: [1]  Actual: 1.0\n",
      "Index 27383 - Predicted: [3]  Actual: 5.0\n",
      "Index 11408 - Predicted: [3]  Actual: 4.0\n",
      "Index 37058 - Predicted: [3]  Actual: 5.0\n",
      "Index 11719 - Predicted: [1]  Actual: 5.0\n",
      "Index 50481 - Predicted: [3]  Actual: 4.0\n",
      "Index 43832 - Predicted: [1]  Actual: 1.0\n",
      "Index 10551 - Predicted: [4]  Actual: 2.0\n",
      "Index 6874 - Predicted: [3]  Actual: 1.0\n",
      "Index 41688 - Predicted: [3]  Actual: 4.0\n",
      "Index 8297 - Predicted: [1]  Actual: 2.0\n",
      "Index 38452 - Predicted: [3]  Actual: 5.0\n",
      "Index 47552 - Predicted: [3]  Actual: 5.0\n",
      "Index 14854 - Predicted: [3]  Actual: 2.0\n"
     ]
    }
   ],
   "source": [
    "for index in np.random.choice(range(0, 56000), 100, replace=False):\n",
    "    txt=df['text_cleaned'].iloc[index]\n",
    "    seq= tokenizer_obj.texts_to_sequences([txt])\n",
    "    padded = pad_sequences(seq, maxlen=max_length)\n",
    "    pred = model.predict_classes(padded)\n",
    "    print(\"Index %s - Predicted: %s  Actual: %s\" % (str(index), pred, df['score'].iloc[index]))\n"
   ]
  },
  {
   "cell_type": "code",
   "execution_count": null,
   "metadata": {},
   "outputs": [],
   "source": []
  }
 ],
 "metadata": {
  "kernelspec": {
   "display_name": "Python 3",
   "language": "python",
   "name": "python3"
  },
  "language_info": {
   "codemirror_mode": {
    "name": "ipython",
    "version": 3
   },
   "file_extension": ".py",
   "mimetype": "text/x-python",
   "name": "python",
   "nbconvert_exporter": "python",
   "pygments_lexer": "ipython3",
   "version": "3.7.3"
  }
 },
 "nbformat": 4,
 "nbformat_minor": 4
}
